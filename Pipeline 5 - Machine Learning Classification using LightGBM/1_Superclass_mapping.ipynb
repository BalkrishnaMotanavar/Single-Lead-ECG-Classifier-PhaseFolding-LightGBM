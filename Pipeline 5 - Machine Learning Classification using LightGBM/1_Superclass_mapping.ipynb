{
 "cells": [
  {
   "cell_type": "code",
   "execution_count": 1,
   "id": "17756ae7-f07b-40b8-ab99-ecb78c409529",
   "metadata": {},
   "outputs": [],
   "source": [
    "import pandas as pd\n",
    "import numpy as np\n",
    "import wfdb\n",
    "import ast\n",
    "\n",
    "def load_raw_data(df, sampling_rate, path):\n",
    "    if sampling_rate == 100:\n",
    "        data = [wfdb.rdsamp(path+f) for f in df.filename_lr]\n",
    "    else:\n",
    "        data = [wfdb.rdsamp(path+f) for f in df.filename_hr]\n",
    "    data = np.array([signal for signal, meta in data])\n",
    "    return data\n",
    "\n",
    "path = '/Users/rohanmotanavar/datasets/PTB_XL/'\n",
    "sampling_rate = 100\n",
    "\n",
    "# Load and convert annotation data\n",
    "Y = pd.read_csv(path + 'ptbxl_database.csv', index_col='ecg_id')\n",
    "Y.scp_codes = Y.scp_codes.apply(lambda x: ast.literal_eval(x))\n",
    "\n",
    "# Load raw signal data\n",
    "X = load_raw_data(Y, sampling_rate, path)\n",
    "\n",
    "# Load scp_statements.csv for diagnostic aggregation\n",
    "agg_df = pd.read_csv(path + 'scp_statements.csv', index_col=0)\n",
    "agg_df = agg_df[agg_df.diagnostic == 1]\n",
    "\n",
    "def aggregate_diagnostic_single(y_dic):\n",
    "    # Filter diagnostic SCP codes and their confidence scores\n",
    "    valid_codes = [(key, y_dic[key]) for key in y_dic.keys() if key in agg_df.index]\n",
    "    if not valid_codes:  # If no diagnostic codes, return empty\n",
    "        return None\n",
    "    # Select the SCP code with the highest confidence\n",
    "    max_code = max(valid_codes, key=lambda x: x[1])[0]\n",
    "    # Map to its superclass\n",
    "    return agg_df.loc[max_code].diagnostic_class\n",
    "\n",
    "# Apply diagnostic superclass (single superclass per patient)\n",
    "Y['diagnostic_superclass'] = Y.scp_codes.apply(aggregate_diagnostic_single)\n",
    "\n",
    "# Save the updated DataFrame to a CSV file\n",
    "Y.to_csv('ptbxl_database_with_single_superclass.csv')\n",
    "\n",
    "# Split data into train and test\n",
    "test_fold = 10\n",
    "# Train\n",
    "X_train = X[np.where(Y.strat_fold != test_fold)]\n",
    "y_train = Y[(Y.strat_fold != test_fold)].diagnostic_superclass\n",
    "# Test\n",
    "X_test = X[np.where(Y.strat_fold == test_fold)]\n",
    "y_test = Y[Y.strat_fold == test_fold].diagnostic_superclass"
   ]
  },
  {
   "cell_type": "code",
   "execution_count": null,
   "id": "b3d94273-93c7-4b1a-bc94-f3b1e75597db",
   "metadata": {},
   "outputs": [],
   "source": []
  }
 ],
 "metadata": {
  "kernelspec": {
   "display_name": "Python 3 (ipykernel)",
   "language": "python",
   "name": "python3"
  },
  "language_info": {
   "codemirror_mode": {
    "name": "ipython",
    "version": 3
   },
   "file_extension": ".py",
   "mimetype": "text/x-python",
   "name": "python",
   "nbconvert_exporter": "python",
   "pygments_lexer": "ipython3",
   "version": "3.12.7"
  }
 },
 "nbformat": 4,
 "nbformat_minor": 5
}
